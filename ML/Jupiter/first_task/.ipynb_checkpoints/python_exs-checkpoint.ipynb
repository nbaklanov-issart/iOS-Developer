{
 "cells": [
  {
   "cell_type": "markdown",
   "metadata": {},
   "source": [
    "# Введение в Python 3 в задачах"
   ]
  },
  {
   "cell_type": "markdown",
   "metadata": {},
   "source": [
    "Далее даны простые задачи, позволяющие понять основы языка Python. Они расположены в порядке тем руководства https://docs.python.org/3.6/tutorial/index.html"
   ]
  },
  {
   "cell_type": "markdown",
   "metadata": {},
   "source": [
    "Вычислите:\n",
    "* 2+2\n",
    "* 19 поделить на 3\n",
    "* 19 поделить на 3 нацело\n",
    "* Остаток от деления 17 на 4\n",
    "* 14 в 5й степени"
   ]
  },
  {
   "cell_type": "code",
   "execution_count": 1,
   "metadata": {},
   "outputs": [
    {
     "name": "stdout",
     "output_type": "stream",
     "text": [
      "4\n",
      "6.333333333333333\n",
      "6\n",
      "1\n",
      "537824\n"
     ]
    }
   ],
   "source": [
    "print(2+2)\n",
    "print(19/3)\n",
    "print(19//3)\n",
    "print(17%4)\n",
    "print(14 ** 5)"
   ]
  },
  {
   "cell_type": "markdown",
   "metadata": {},
   "source": [
    "## Строки"
   ]
  },
  {
   "cell_type": "markdown",
   "metadata": {},
   "source": [
    "Напечатайте строки\n",
    "* I kow what 'ML' means\n",
    "* I kow what \"ML\" means\n",
    "* I kow what 'ML' means\\nDo you?\n",
    "Используйте для обрамления как одинарные, так и двойные кавычки"
   ]
  },
  {
   "cell_type": "markdown",
   "metadata": {},
   "source": [
    "Напечатайте последнюю строку через функцию `print()`. Сравните результат с выводом без неё."
   ]
  },
  {
   "cell_type": "code",
   "execution_count": 2,
   "metadata": {},
   "outputs": [
    {
     "name": "stdout",
     "output_type": "stream",
     "text": [
      "I kow what 'ML' means\n",
      "I kow what \"ML\" means\n",
      "I kow what 'ML' means\n",
      "Do you?\n"
     ]
    }
   ],
   "source": [
    "print(\"I kow what \\'ML\\' means\")\n",
    "print(\"I kow what \\\"ML\\\" means\")\n",
    "print(\"I kow what \\'ML\\' means\\nDo you?\")"
   ]
  },
  {
   "cell_type": "code",
   "execution_count": 2,
   "metadata": {},
   "outputs": [
    {
     "name": "stdout",
     "output_type": "stream",
     "text": [
      "I kow what 'ML' means\n",
      "Do you?\n"
     ]
    }
   ],
   "source": [
    "print(\"I kow what \\'ML\\' means\\nDo you?\")"
   ]
  },
  {
   "cell_type": "code",
   "execution_count": 4,
   "metadata": {},
   "outputs": [
    {
     "data": {
      "text/plain": [
       "\"I know what 'ML' means\\nDo you\""
      ]
     },
     "execution_count": 4,
     "metadata": {},
     "output_type": "execute_result"
    }
   ],
   "source": [
    "\"I know what \\'ML\\' means\\nDo you\""
   ]
  },
  {
   "cell_type": "markdown",
   "metadata": {},
   "source": [
    "Добавьте перед строкой символ `r`. Как изменился результат?"
   ]
  },
  {
   "cell_type": "code",
   "execution_count": 6,
   "metadata": {},
   "outputs": [
    {
     "name": "stdout",
     "output_type": "stream",
     "text": [
      "I kow what \\'ML\\' means\\nDo you?\n"
     ]
    }
   ],
   "source": [
    "print(r\"I kow what \\'ML\\' means\\nDo you?\")"
   ]
  },
  {
   "cell_type": "markdown",
   "metadata": {},
   "source": [
    "Сохраните в переменную `text` значение `\"ML is cool!\"`"
   ]
  },
  {
   "cell_type": "code",
   "execution_count": 8,
   "metadata": {},
   "outputs": [],
   "source": [
    "text = '\\\"ML is cool!\\\"'"
   ]
  },
  {
   "cell_type": "markdown",
   "metadata": {},
   "source": [
    "Повторите строку `\"ML is cool! \"` два раза. Используйте оператор `+`."
   ]
  },
  {
   "cell_type": "code",
   "execution_count": 10,
   "metadata": {},
   "outputs": [
    {
     "name": "stdout",
     "output_type": "stream",
     "text": [
      "\"ML is cool!\"\"ML is cool!\"\n",
      "\"ML is cool!\"\"ML is cool!\"\n"
     ]
    }
   ],
   "source": [
    "print(text + text)\n",
    "print(2 * text)"
   ]
  },
  {
   "cell_type": "markdown",
   "metadata": {},
   "source": [
    "Повторите строку `\"ML is cool! \"` *три* раза. Используйте оператор `*`."
   ]
  },
  {
   "cell_type": "code",
   "execution_count": 11,
   "metadata": {},
   "outputs": [
    {
     "name": "stdout",
     "output_type": "stream",
     "text": [
      "\"ML is cool!\"\"ML is cool!\"\"ML is cool!\"\n"
     ]
    }
   ],
   "source": [
    "print(3*text)"
   ]
  },
  {
   "cell_type": "markdown",
   "metadata": {},
   "source": [
    "Сохраните в переменную `text` значение `\"0123456789\"`. Напечатайте:\n",
    "* первый символ\n",
    "* последний символ\n",
    "* первые три символа\n",
    "* последние четыре символа\n",
    "* символы с `'3'` по `'7'` включительно"
   ]
  },
  {
   "cell_type": "code",
   "execution_count": 12,
   "metadata": {},
   "outputs": [
    {
     "name": "stdout",
     "output_type": "stream",
     "text": [
      "0\n",
      "9\n",
      "0123\n",
      "6789\n",
      "34567\n"
     ]
    }
   ],
   "source": [
    "text = \"0123456789\"\n",
    "print(text[0])\n",
    "print(text[-1])\n",
    "print(text[:4])\n",
    "print(text[-4:])\n",
    "print(text[3:8])"
   ]
  },
  {
   "cell_type": "markdown",
   "metadata": {},
   "source": [
    "## Списки"
   ]
  },
  {
   "cell_type": "markdown",
   "metadata": {},
   "source": [
    "Сохраните в переменную `primes` список простых чисел от 1 до 17"
   ]
  },
  {
   "cell_type": "code",
   "execution_count": 1,
   "metadata": {},
   "outputs": [
    {
     "name": "stdout",
     "output_type": "stream",
     "text": [
      "2\n",
      "17\n",
      "[2, 3, 5, 7]\n",
      "[7, 11, 13, 17]\n",
      "[7, 11, 13, 17]\n"
     ]
    }
   ],
   "source": [
    "primes = [2, 3, 5, 7, 11, 13, 17]\n",
    "print(primes[0])\n",
    "print(primes[-1])\n",
    "print(primes[:4])\n",
    "print(primes[-4:])\n",
    "print(primes[3:12])"
   ]
  },
  {
   "cell_type": "markdown",
   "metadata": {},
   "source": [
    "Напечатайте:\n",
    "* первый элемент\n",
    "* последний элемент\n",
    "* первые три элемента\n",
    "* последние четыре элемента\n",
    "* элементы с `3` по `11` включительно"
   ]
  },
  {
   "cell_type": "markdown",
   "metadata": {},
   "source": [
    "Добавьте в этот список следующее простое число"
   ]
  },
  {
   "cell_type": "code",
   "execution_count": 2,
   "metadata": {},
   "outputs": [
    {
     "name": "stdout",
     "output_type": "stream",
     "text": [
      "[2, 3, 5, 7, 11, 13, 17, 19]\n"
     ]
    }
   ],
   "source": [
    "primes.append(19)\n",
    "print(primes)"
   ]
  },
  {
   "cell_type": "markdown",
   "metadata": {},
   "source": [
    "Замените число 7 на 8"
   ]
  },
  {
   "cell_type": "code",
   "execution_count": 19,
   "metadata": {},
   "outputs": [
    {
     "name": "stdout",
     "output_type": "stream",
     "text": [
      "[1, 2, 3, 4, 5, 6, 8, 8, 9, 10, 11, 12, 13, 14, 15, 16, 17, 18]\n"
     ]
    }
   ],
   "source": [
    "primes[6] = 8\n",
    "print(primes)"
   ]
  },
  {
   "cell_type": "markdown",
   "metadata": {},
   "source": [
    "Восстановите статус-кво"
   ]
  },
  {
   "cell_type": "code",
   "execution_count": 20,
   "metadata": {},
   "outputs": [],
   "source": [
    "primes[6] = 7"
   ]
  },
  {
   "cell_type": "markdown",
   "metadata": {},
   "source": [
    "Сохраните в переменную `next_primes` числа 23,29,31,32,33 и 37 (именно их)"
   ]
  },
  {
   "cell_type": "code",
   "execution_count": 21,
   "metadata": {},
   "outputs": [],
   "source": [
    "next_primes = [23,29,31,32,33,37]"
   ]
  },
  {
   "cell_type": "markdown",
   "metadata": {},
   "source": [
    "Удалите числа 32 и 33"
   ]
  },
  {
   "cell_type": "code",
   "execution_count": 15,
   "metadata": {},
   "outputs": [
    {
     "name": "stdout",
     "output_type": "stream",
     "text": [
      "[23, 29, 31, 37]\n"
     ]
    }
   ],
   "source": [
    "next_primes[3:5] = []\n",
    "print(next_primes)"
   ]
  },
  {
   "cell_type": "markdown",
   "metadata": {},
   "source": [
    "Добавьте элементы из `next_primes` в `primes`."
   ]
  },
  {
   "cell_type": "code",
   "execution_count": 22,
   "metadata": {},
   "outputs": [
    {
     "name": "stdout",
     "output_type": "stream",
     "text": [
      "[1, 2, 3, 4, 5, 6, 7, 8, 9, 10, 11, 12, 13, 14, 15, 16, 17, 18, 23, 29, 31, 32, 33, 37]\n"
     ]
    }
   ],
   "source": [
    "primes = primes + next_primes\n",
    "print(primes)"
   ]
  },
  {
   "cell_type": "markdown",
   "metadata": {},
   "source": [
    "## Управляющие конструкции"
   ]
  },
  {
   "cell_type": "markdown",
   "metadata": {},
   "source": [
    "Считайте с клавиатуры число и сохраните его в переменную `x`"
   ]
  },
  {
   "cell_type": "code",
   "execution_count": 23,
   "metadata": {},
   "outputs": [
    {
     "name": "stdout",
     "output_type": "stream",
     "text": [
      "Please enter an integer: 67\n"
     ]
    }
   ],
   "source": [
    "x = int(input(\"Please enter an integer: \"))"
   ]
  },
  {
   "cell_type": "markdown",
   "metadata": {},
   "source": [
    "Напечатайте строку `\"x is even\"` или `\"x is odd\"` в зависимости от того, чётное это число, или нет"
   ]
  },
  {
   "cell_type": "code",
   "execution_count": 24,
   "metadata": {},
   "outputs": [
    {
     "name": "stdout",
     "output_type": "stream",
     "text": [
      "x is odd\n"
     ]
    }
   ],
   "source": [
    "if (x % 2) == 0 : print('x is even')\n",
    "else: print('x is odd')"
   ]
  },
  {
   "cell_type": "markdown",
   "metadata": {},
   "source": [
    "Напечатайте все элементы списка `primes`"
   ]
  },
  {
   "cell_type": "code",
   "execution_count": 25,
   "metadata": {},
   "outputs": [
    {
     "name": "stdout",
     "output_type": "stream",
     "text": [
      "1\n",
      "2\n",
      "3\n",
      "4\n",
      "5\n",
      "6\n",
      "7\n",
      "8\n",
      "9\n",
      "10\n",
      "11\n",
      "12\n",
      "13\n",
      "14\n",
      "15\n",
      "16\n",
      "17\n",
      "18\n",
      "23\n",
      "29\n",
      "31\n",
      "32\n",
      "33\n",
      "37\n"
     ]
    }
   ],
   "source": [
    "for w in primes:\n",
    "    print(w)"
   ]
  },
  {
   "cell_type": "markdown",
   "metadata": {},
   "source": [
    "Напечатайте лишь те, которые после добавления единицы делятся на четыре."
   ]
  },
  {
   "cell_type": "code",
   "execution_count": 26,
   "metadata": {},
   "outputs": [
    {
     "name": "stdout",
     "output_type": "stream",
     "text": [
      "3\n",
      "7\n",
      "11\n",
      "15\n",
      "23\n",
      "31\n"
     ]
    }
   ],
   "source": [
    "for w in primes:\n",
    "    if ((w + 1) % 4) == 0 : print(w)"
   ]
  },
  {
   "cell_type": "markdown",
   "metadata": {},
   "source": [
    "Используя функцию `range()`, выведите на печать списки\n",
    "* 0, 1, 2, 3\n",
    "* 2, 4, 6, 8, 10\n",
    "* 7, 3, -1, -5\n",
    "\n",
    "Используйте конструкцию `list(range(...))`"
   ]
  },
  {
   "cell_type": "code",
   "execution_count": 27,
   "metadata": {},
   "outputs": [
    {
     "name": "stdout",
     "output_type": "stream",
     "text": [
      "[0, 1, 2, 3]\n",
      "[2, 4, 6, 8, 10]\n",
      "[7, 3, -1, -5]\n"
     ]
    }
   ],
   "source": [
    "print(list(range(0,4)))\n",
    "print(list(range(2,11,2)))\n",
    "print(list(range(7,-6,-4)))"
   ]
  },
  {
   "cell_type": "markdown",
   "metadata": {},
   "source": [
    "## Функции"
   ]
  },
  {
   "cell_type": "markdown",
   "metadata": {},
   "source": [
    "Создайте функцию `factorial(n)`, вычисляющую факториал"
   ]
  },
  {
   "cell_type": "code",
   "execution_count": 29,
   "metadata": {},
   "outputs": [
    {
     "name": "stdout",
     "output_type": "stream",
     "text": [
      "362880\n"
     ]
    }
   ],
   "source": [
    "def factorial(n):\n",
    "    if n == 0:\n",
    "        return 1\n",
    "    else:\n",
    "        return n * factorial(n-1)\n",
    "print(factorial(9))"
   ]
  },
  {
   "cell_type": "markdown",
   "metadata": {},
   "source": [
    "Создайте функцию `dump_list()` с двумя параметрами:\n",
    "* `items` - сам список\n",
    "* `count` - количество элементов, выводимых на печать\n",
    "\n",
    "Сделайте так, чтобы, если `count` не указан, функция печатала первые три элемента. Проверять границы списка не нужно."
   ]
  },
  {
   "cell_type": "code",
   "execution_count": 6,
   "metadata": {},
   "outputs": [],
   "source": [
    "def dumb_list(items, count=3):\n",
    "    print(items[:count])"
   ]
  },
  {
   "cell_type": "markdown",
   "metadata": {},
   "source": [
    "Создайте функцию `dump_list2()` с дополнительным параметром `prefix`, по умолчанию равным пустой строке.\n",
    "\n",
    "Вызовите функцию `dump_list2()`, указав значение параметра `prefix` равное `\"- \"`, и **не** указывая `count`."
   ]
  },
  {
   "cell_type": "code",
   "execution_count": 18,
   "metadata": {},
   "outputs": [
    {
     "name": "stdout",
     "output_type": "stream",
     "text": [
      "\"- \"1\n",
      "\"- \"2\n",
      "\"- \"3\n"
     ]
    }
   ],
   "source": [
    "def dumb_list2(items, count=3, prefix=\"\"):\n",
    "    for w in range(count):\n",
    "        print(prefix+str(items[w]))\n",
    "    \n",
    "dumb_list2([1,2,3,4,5,6,7,8,9], prefix=\"\\\"- \\\"\")"
   ]
  },
  {
   "cell_type": "markdown",
   "metadata": {},
   "source": [
    "Создайте функцию `dump_list3()`, в которой параметры `count` и `prefix` будут доступны через словарь `**kw`."
   ]
  },
  {
   "cell_type": "code",
   "execution_count": 19,
   "metadata": {},
   "outputs": [
    {
     "name": "stdout",
     "output_type": "stream",
     "text": [
      "\"- \"1\n"
     ]
    }
   ],
   "source": [
    "def dumb_list3(items, count=3, prefix=\"\"):\n",
    "    for w in range(count):\n",
    "        print(prefix+str(items[w]))\n",
    "    \n",
    "dumb_list2([1,2,3,4,5,6,7,8,9],count=1, prefix=\"\\\"- \\\"\")"
   ]
  },
  {
   "cell_type": "markdown",
   "metadata": {},
   "source": [
    "Создайте функцию `dump_list4()`, в которой элементы списка можно передавать как параметры, а `count` и `prefix` будут доступны через словарь `**kw`."
   ]
  },
  {
   "cell_type": "code",
   "execution_count": 24,
   "metadata": {},
   "outputs": [
    {
     "name": "stdout",
     "output_type": "stream",
     "text": [
      "\"- \"[1, 2, 3, 4, 5, 6, 7, 8, 9]\n"
     ]
    }
   ],
   "source": [
    "def dumb_list4(*arguments, **keywords):\n",
    "    if keywords['prefix'] == None : paramPrefix = \"\"\n",
    "    else : paramPrefix = keywords['prefix']\n",
    "        \n",
    "    if keywords['count'] == None : paramCount = 3\n",
    "    else : paramCount = keywords['count']\n",
    "        \n",
    "    for arg in range(paramCount):\n",
    "         print(paramPrefix+str(arguments[arg]))\n",
    "           \n",
    "        \n",
    "dumb_list4([1,2,3,4,5,6,7,8,9], count=1, prefix=\"\\\"- \\\"\")"
   ]
  },
  {
   "cell_type": "markdown",
   "metadata": {},
   "source": [
    "Сравните результат вызовов:\n",
    "* `dump_list4(primes, count=2, prefix=\"- \")`\n",
    "* `dump_list4(*primes, count=2, prefix=\"- \")`\n",
    "\n",
    "Объясните работу символа `*`."
   ]
  },
  {
   "cell_type": "code",
   "execution_count": 25,
   "metadata": {},
   "outputs": [
    {
     "name": "stdout",
     "output_type": "stream",
     "text": [
      "- [2, 3, 5, 7, 11, 13, 17, 19]\n"
     ]
    },
    {
     "ename": "IndexError",
     "evalue": "tuple index out of range",
     "output_type": "error",
     "traceback": [
      "\u001b[0;31m---------------------------------------------------------------------------\u001b[0m",
      "\u001b[0;31mIndexError\u001b[0m                                Traceback (most recent call last)",
      "\u001b[0;32m<ipython-input-25-c3aac9f47c10>\u001b[0m in \u001b[0;36m<module>\u001b[0;34m()\u001b[0m\n\u001b[0;32m----> 1\u001b[0;31m \u001b[0mdumb_list4\u001b[0m\u001b[0;34m(\u001b[0m\u001b[0mprimes\u001b[0m\u001b[0;34m,\u001b[0m \u001b[0mcount\u001b[0m\u001b[0;34m=\u001b[0m\u001b[0;36m2\u001b[0m\u001b[0;34m,\u001b[0m \u001b[0mprefix\u001b[0m\u001b[0;34m=\u001b[0m\u001b[0;34m\"- \"\u001b[0m\u001b[0;34m)\u001b[0m\u001b[0;34m\u001b[0m\u001b[0m\n\u001b[0m\u001b[1;32m      2\u001b[0m \u001b[0mdumb_list4\u001b[0m\u001b[0;34m(\u001b[0m\u001b[0;34m*\u001b[0m\u001b[0mprimes\u001b[0m\u001b[0;34m,\u001b[0m \u001b[0mcount\u001b[0m\u001b[0;34m=\u001b[0m\u001b[0;36m2\u001b[0m\u001b[0;34m,\u001b[0m \u001b[0mprefix\u001b[0m\u001b[0;34m=\u001b[0m\u001b[0;34m\"- \"\u001b[0m\u001b[0;34m)\u001b[0m\u001b[0;34m\u001b[0m\u001b[0m\n",
      "\u001b[0;32m<ipython-input-24-1905b398f619>\u001b[0m in \u001b[0;36mdumb_list4\u001b[0;34m(*arguments, **keywords)\u001b[0m\n\u001b[1;32m      7\u001b[0m \u001b[0;34m\u001b[0m\u001b[0m\n\u001b[1;32m      8\u001b[0m     \u001b[0;32mfor\u001b[0m \u001b[0marg\u001b[0m \u001b[0;32min\u001b[0m \u001b[0mrange\u001b[0m\u001b[0;34m(\u001b[0m\u001b[0mparamCount\u001b[0m\u001b[0;34m)\u001b[0m\u001b[0;34m:\u001b[0m\u001b[0;34m\u001b[0m\u001b[0m\n\u001b[0;32m----> 9\u001b[0;31m          \u001b[0mprint\u001b[0m\u001b[0;34m(\u001b[0m\u001b[0mparamPrefix\u001b[0m\u001b[0;34m+\u001b[0m\u001b[0mstr\u001b[0m\u001b[0;34m(\u001b[0m\u001b[0marguments\u001b[0m\u001b[0;34m[\u001b[0m\u001b[0marg\u001b[0m\u001b[0;34m]\u001b[0m\u001b[0;34m)\u001b[0m\u001b[0;34m)\u001b[0m\u001b[0;34m\u001b[0m\u001b[0m\n\u001b[0m\u001b[1;32m     10\u001b[0m \u001b[0;34m\u001b[0m\u001b[0m\n\u001b[1;32m     11\u001b[0m \u001b[0;34m\u001b[0m\u001b[0m\n",
      "\u001b[0;31mIndexError\u001b[0m: tuple index out of range"
     ]
    }
   ],
   "source": [
    "dumb_list4(primes, count=2, prefix=\"- \")\n",
    "dumb_list4(*primes, count=2, prefix=\"- \")"
   ]
  },
  {
   "cell_type": "markdown",
   "metadata": {},
   "source": [
    "Создайте переменную `sqr`, содержащую лямбда-функцию, которая возвращает квадрат аргумента."
   ]
  },
  {
   "cell_type": "code",
   "execution_count": 36,
   "metadata": {},
   "outputs": [],
   "source": [
    "sqr = lambda a : a*a"
   ]
  },
  {
   "cell_type": "markdown",
   "metadata": {},
   "source": [
    "Примените её к числу 1.23"
   ]
  },
  {
   "cell_type": "code",
   "execution_count": 37,
   "metadata": {},
   "outputs": [
    {
     "name": "stdout",
     "output_type": "stream",
     "text": [
      "1.5129\n"
     ]
    }
   ],
   "source": [
    "print(sqr(1.23))"
   ]
  },
  {
   "cell_type": "markdown",
   "metadata": {},
   "source": [
    "Создайте функцию `my_map()`, применяющую к каждому элементу списка заданную функцию. Результатом должен быть список обработанных элементов\n",
    "\n",
    "Параметры:\n",
    "* `items` - список элементов,\n",
    "* `op` - функция, которую нужно применить."
   ]
  },
  {
   "cell_type": "code",
   "execution_count": 39,
   "metadata": {},
   "outputs": [],
   "source": [
    "def my_map(items, op):\n",
    "    ret = []\n",
    "    for r in items:\n",
    "        ret.append(op(r))\n",
    "    print(ret)"
   ]
  },
  {
   "cell_type": "markdown",
   "metadata": {},
   "source": [
    "Примените функцию `my_map()` к списку `primes` и функции `sqr`."
   ]
  },
  {
   "cell_type": "code",
   "execution_count": 40,
   "metadata": {},
   "outputs": [
    {
     "name": "stdout",
     "output_type": "stream",
     "text": [
      "[1, 4, 9, 16, 25, 36, 49, 64, 81, 100, 121, 144, 169, 196, 225, 256, 289, 324, 529, 841, 961, 1024, 1089, 1369]\n"
     ]
    }
   ],
   "source": [
    "my_map(primes, sqr)"
   ]
  },
  {
   "cell_type": "markdown",
   "metadata": {},
   "source": [
    "## Структуры данных"
   ]
  },
  {
   "cell_type": "markdown",
   "metadata": {},
   "source": [
    "Создайте копию `'primes2` списка `primes`. Это можно сделать, например, так:\n",
    "``` primes2 = primes[:] ```"
   ]
  },
  {
   "cell_type": "code",
   "execution_count": 45,
   "metadata": {},
   "outputs": [
    {
     "name": "stdout",
     "output_type": "stream",
     "text": [
      "1\n",
      "0\n",
      "0\n",
      "[37, 33, 32, 31, 29, 23, 18, 17, 16, 15, 14, 13, 12, 11, 10, 9, 8, 7, 6, 5, 4, 3, 2, 1, 555, 37, 33, 32, 31, 29, 23, 18, 17, 16, 15, 14, 13, 12, 11, 10, 9, 8, 7, 6, 5, 4, 3, 2]\n"
     ]
    }
   ],
   "source": [
    "primes2 = primes.copy()\n",
    "primes2.append(555)\n",
    "\n",
    "primes2.extend(primes)\n",
    "primes2.insert(0, -34)\n",
    "primes2.remove(-34)\n",
    "\n",
    "print(primes2.pop(0))\n",
    "print(primes2.index(2))\n",
    "\n",
    "print(primes2.count(-34))\n",
    "\n",
    "primes2.reverse()\n",
    "print(primes2)"
   ]
  },
  {
   "cell_type": "markdown",
   "metadata": {},
   "source": [
    "Примените к полученному списку функции, описанные в https://docs.python.org/3.6/tutorial/datastructures.html#more-on-lists . Изучите результаты"
   ]
  },
  {
   "cell_type": "markdown",
   "metadata": {},
   "source": [
    "Определите функцию `my_map2()`, используя _list comprehension_."
   ]
  },
  {
   "cell_type": "code",
   "execution_count": 46,
   "metadata": {},
   "outputs": [],
   "source": [
    "def my_map2(items, op):\n",
    "    print([op(x) for x in items ])"
   ]
  },
  {
   "cell_type": "markdown",
   "metadata": {},
   "source": [
    "Примените функцию `my_map2()` к списку `primes` и функции `sqr`."
   ]
  },
  {
   "cell_type": "code",
   "execution_count": 47,
   "metadata": {},
   "outputs": [
    {
     "name": "stdout",
     "output_type": "stream",
     "text": [
      "[1, 4, 9, 16, 25, 36, 49, 64, 81, 100, 121, 144, 169, 196, 225, 256, 289, 324, 529, 841, 961, 1024, 1089, 1369]\n"
     ]
    }
   ],
   "source": [
    "my_map2(primes, sqr)"
   ]
  },
  {
   "cell_type": "markdown",
   "metadata": {},
   "source": [
    "Используя вложенный list comprehension, получите список списков вот такого вида:\n",
    "``` [[1,2,3], [2,3,6], [3,6,9]] ```"
   ]
  },
  {
   "cell_type": "code",
   "execution_count": 68,
   "metadata": {},
   "outputs": [
    {
     "name": "stdout",
     "output_type": "stream",
     "text": [
      "[1, 2, 3] [2, 3, 6] [3, 6, 9]\n"
     ]
    }
   ],
   "source": [
    "mm = [1,2,3,6,9]\n",
    "print([x for x in mm if x < 4], [x for x in mm if x < 9 and x > 1], [x for x in mm if x > 2])"
   ]
  },
  {
   "cell_type": "markdown",
   "metadata": {},
   "source": [
    "Создайте картеж (tuple) `t` из трёх элементов: `1`, `2.0` и `'3'`"
   ]
  },
  {
   "cell_type": "code",
   "execution_count": 49,
   "metadata": {},
   "outputs": [],
   "source": [
    "t=1,2.0,\"3\""
   ]
  },
  {
   "cell_type": "markdown",
   "metadata": {},
   "source": [
    "Создайте пустой кортеж `t_empty` и кортеж с одним элементом `1` и именем `t_single`"
   ]
  },
  {
   "cell_type": "code",
   "execution_count": 50,
   "metadata": {},
   "outputs": [],
   "source": [
    "t_empty=()\n",
    "t_single = 1,"
   ]
  },
  {
   "cell_type": "markdown",
   "metadata": {},
   "source": [
    "Присвойте значения из кортежа `t` переменным `a`, `b` и `c`"
   ]
  },
  {
   "cell_type": "code",
   "execution_count": 51,
   "metadata": {},
   "outputs": [],
   "source": [
    "a,b,c=t"
   ]
  },
  {
   "cell_type": "markdown",
   "metadata": {},
   "source": [
    "Используя функции `range()` и `set()`, создайте множества `mult2` и `mult3`, содержащие числа меньше 20, кратные 2 и 3 соответственно."
   ]
  },
  {
   "cell_type": "code",
   "execution_count": 71,
   "metadata": {},
   "outputs": [
    {
     "name": "stdout",
     "output_type": "stream",
     "text": [
      "{0, 1, 2, 3, 4, 5, 6, 7, 8, 9, 10, 11, 12, 13, 14, 15, 16, 17, 18, 19}\n",
      "{0, 2, 3, 4, 6, 8, 9, 10, 12, 14, 15, 16, 18}\n"
     ]
    }
   ],
   "source": [
    "mult2 = set(range(20))\n",
    "mult3 = {x for x in mult2 if x % 2 == 0 or x % 3 == 0}\n",
    "print(mult2)\n",
    "print(mult3)"
   ]
  },
  {
   "cell_type": "markdown",
   "metadata": {},
   "source": [
    "Для полученных множеств найдите:\n",
    "* объединение\n",
    "* пересечение\n",
    "* разность\n",
    "* симметричную разность"
   ]
  },
  {
   "cell_type": "code",
   "execution_count": 72,
   "metadata": {},
   "outputs": [
    {
     "name": "stdout",
     "output_type": "stream",
     "text": [
      "{0, 1, 2, 3, 4, 5, 6, 7, 8, 9, 10, 11, 12, 13, 14, 15, 16, 17, 18, 19}\n",
      "{0, 2, 3, 4, 6, 8, 9, 10, 12, 14, 15, 16, 18}\n",
      "set()\n",
      "{1, 5, 7, 11, 13, 17, 19}\n"
     ]
    }
   ],
   "source": [
    "print(mult3 | mult2)\n",
    "print(mult3 & mult2)\n",
    "print(mult3 - mult2)\n",
    "print(mult3 ^ mult2)"
   ]
  },
  {
   "cell_type": "markdown",
   "metadata": {},
   "source": [
    "Выведите на печать словарь с полями `first_name`, `last_name` и `patronymic`, содержащими Ваши фамилию, имя и отчество.\n",
    "Сделайте это тремя способами:\n",
    "* через фигурные скобки\n",
    "* через функцию `dict()` с именованными параметрами\n",
    "* через функцию `dict()` со списком кортежей (поле, значение)"
   ]
  },
  {
   "cell_type": "code",
   "execution_count": 77,
   "metadata": {},
   "outputs": [
    {
     "name": "stdout",
     "output_type": "stream",
     "text": [
      "{'first_name': 'Nikolai', 'last_name': 'Baklanov', 'patronymic': 'Vladimirovich'}\n",
      "{'first_name': 'Nikolai', 'last_name': 'Baklanov', 'patronymic': 'Vladimirovich'}\n",
      "{'first_name': 'Nikolai', 'last_name': 'Baklanov', 'patronymic': 'Vladimirovich'}\n"
     ]
    }
   ],
   "source": [
    "tel1 = {'first_name': 'Nikolai', 'last_name': 'Baklanov', 'patronymic':'Vladimirovich'}\n",
    "print(tel1)\n",
    "\n",
    "tel2 = dict(first_name='Nikolai',last_name='Baklanov',patronymic='Vladimirovich')\n",
    "print(tel2)\n",
    "\n",
    "\n",
    "tel3 = dict([('first_name', 'Nikolai'), ('last_name', 'Baklanov'), ('patronymic','Vladimirovich')])\n",
    "print(tel3)"
   ]
  },
  {
   "cell_type": "markdown",
   "metadata": {},
   "source": [
    "Используя dict comprehension, создайте словарь `squares`, содержащий квадраты целых чисел от 1 до 7"
   ]
  },
  {
   "cell_type": "code",
   "execution_count": 80,
   "metadata": {},
   "outputs": [
    {
     "name": "stdout",
     "output_type": "stream",
     "text": [
      "{0: 0, 1: 1, 2: 4, 3: 9, 4: 16, 5: 25, 6: 36, 7: 49}\n"
     ]
    }
   ],
   "source": [
    "sqrdict = {x: x**2 for x in range(8)}\n",
    "print(sqrdict)"
   ]
  },
  {
   "cell_type": "markdown",
   "metadata": {},
   "source": [
    "Напечатайте данный словарь, используя метод `.items()` словаря. Используйте две переменные в цикле `for`."
   ]
  },
  {
   "cell_type": "code",
   "execution_count": 82,
   "metadata": {},
   "outputs": [
    {
     "name": "stdout",
     "output_type": "stream",
     "text": [
      "dict_items([(0, 0), (1, 1), (2, 4), (3, 9), (4, 16), (5, 25), (6, 36), (7, 49)])\n"
     ]
    }
   ],
   "source": [
    "print(sqrdict.items())"
   ]
  },
  {
   "cell_type": "markdown",
   "metadata": {},
   "source": [
    "Напечатайте все элементы списка `primes` вместе с их индексами в массиве. Используйте функцию `enumerate()`."
   ]
  },
  {
   "cell_type": "code",
   "execution_count": 83,
   "metadata": {},
   "outputs": [
    {
     "name": "stdout",
     "output_type": "stream",
     "text": [
      "0 1\n",
      "1 2\n",
      "2 3\n",
      "3 4\n",
      "4 5\n",
      "5 6\n",
      "6 7\n",
      "7 8\n",
      "8 9\n",
      "9 10\n",
      "10 11\n",
      "11 12\n",
      "12 13\n",
      "13 14\n",
      "14 15\n",
      "15 16\n",
      "16 17\n",
      "17 18\n",
      "18 23\n",
      "19 29\n",
      "20 31\n",
      "21 32\n",
      "22 33\n",
      "23 37\n"
     ]
    }
   ],
   "source": [
    "for i, v in enumerate(primes):\n",
    "    print(i, v)"
   ]
  },
  {
   "cell_type": "markdown",
   "metadata": {},
   "source": [
    "Напечатайте ещё один словарь в Ф.И.О., используя функции `dict()` и `zip()`"
   ]
  },
  {
   "cell_type": "code",
   "execution_count": 84,
   "metadata": {},
   "outputs": [
    {
     "name": "stdout",
     "output_type": "stream",
     "text": [
      "first_name first_name\n",
      "last_name last_name\n",
      "patronymic patronymic\n"
     ]
    }
   ],
   "source": [
    "for q, a in zip(tel1, tel2):\n",
    "     print('{0} {1}'.format(q, a))"
   ]
  },
  {
   "cell_type": "markdown",
   "metadata": {},
   "source": [
    "Проверьте, входят ли числа 7 и 9 в список `primes`"
   ]
  },
  {
   "cell_type": "code",
   "execution_count": 86,
   "metadata": {},
   "outputs": [
    {
     "name": "stdout",
     "output_type": "stream",
     "text": [
      "True\n",
      "True\n",
      "True\n"
     ]
    }
   ],
   "source": [
    "print(7 in primes)\n",
    "print(9 in primes)\n",
    "print(7 and 9 in primes)"
   ]
  },
  {
   "cell_type": "markdown",
   "metadata": {},
   "source": [
    "Обясните вывод команд\n",
    "* `print(\"\" or 0 or print('print() was called'))`\n",
    "* `print(\"\" or 1 or print('print() was called'))`\n",
    "* `print(\"text\" or 0 or print('print() was called'))`"
   ]
  },
  {
   "cell_type": "code",
   "execution_count": 87,
   "metadata": {},
   "outputs": [
    {
     "name": "stdout",
     "output_type": "stream",
     "text": [
      "print() was called\n",
      "None\n",
      "1\n",
      "text\n"
     ]
    }
   ],
   "source": [
    "print(\"\" or 0 or print('print() was called'))\n",
    "print(\"\" or 1 or print('print() was called'))\n",
    "print(\"text\" or 0 or print('print() was called'))"
   ]
  },
  {
   "cell_type": "markdown",
   "metadata": {},
   "source": [
    "## Классы"
   ]
  },
  {
   "cell_type": "markdown",
   "metadata": {},
   "source": [
    "Объявите класс Point. Добавьте конструктор с двумя параметрами `x` и `y`. Сохраните их значения в поля с такими же именами"
   ]
  },
  {
   "cell_type": "code",
   "execution_count": 92,
   "metadata": {},
   "outputs": [],
   "source": [
    "class Point:\n",
    "    def __init__(self, x, y):\n",
    "        self.x = x\n",
    "        self.y = y"
   ]
  },
  {
   "cell_type": "markdown",
   "metadata": {},
   "source": [
    "Создайте переменную `pt` класса `Point` с координатами 3 и 4"
   ]
  },
  {
   "cell_type": "code",
   "execution_count": 93,
   "metadata": {},
   "outputs": [
    {
     "name": "stdout",
     "output_type": "stream",
     "text": [
      "3\n",
      "4\n"
     ]
    }
   ],
   "source": [
    "pt = Point(3,4)\n",
    "print(pt.x)\n",
    "print(pt.y)"
   ]
  },
  {
   "cell_type": "markdown",
   "metadata": {},
   "source": [
    "Напечатайте значения полей `x` и `y`, используя функцию `print()`"
   ]
  },
  {
   "cell_type": "code",
   "execution_count": 94,
   "metadata": {},
   "outputs": [
    {
     "name": "stdout",
     "output_type": "stream",
     "text": [
      "3\n",
      "4\n"
     ]
    }
   ],
   "source": [
    "print(pt.x)\n",
    "print(pt.y)"
   ]
  },
  {
   "cell_type": "markdown",
   "metadata": {},
   "source": [
    "Добавьте в класс `Point` метод `move()` с параметрами `dx` и `dy`, перемещающий точку на указанные величины.\n",
    "_Для удобства, скопируйте ячейку с объявлением класса_"
   ]
  },
  {
   "cell_type": "code",
   "execution_count": 95,
   "metadata": {},
   "outputs": [],
   "source": [
    "class Point:\n",
    "    def __init__(self, x, y):\n",
    "        self.x = x\n",
    "        self.y = y\n",
    "    def move(self, dx, dy):\n",
    "        self.x += dx\n",
    "        self.y += dy"
   ]
  },
  {
   "cell_type": "markdown",
   "metadata": {},
   "source": [
    "Присвойте переменной `pt` новое значение `Point(2,5)`, вызовите метод `.move()` с параметрами 2 и -2 и напечатайте новые координаты точки."
   ]
  },
  {
   "cell_type": "code",
   "execution_count": 96,
   "metadata": {},
   "outputs": [
    {
     "name": "stdout",
     "output_type": "stream",
     "text": [
      "4\n",
      "3\n"
     ]
    }
   ],
   "source": [
    "pt = Point(2,5)\n",
    "pt.move(2, -2)\n",
    "print(pt.x)\n",
    "print(pt.y)"
   ]
  },
  {
   "cell_type": "markdown",
   "metadata": {},
   "source": [
    "Реализуйте класс-итератор `OddIterator`, перебирающий нечётные элементы списка. Сам список должен быть параметром конструктора"
   ]
  },
  {
   "cell_type": "code",
   "execution_count": 103,
   "metadata": {},
   "outputs": [],
   "source": [
    "class OddIterator:\n",
    "    def __init__(self, data):\n",
    "        self.data = data\n",
    "        self.index = 0\n",
    "    def __iter__(self):\n",
    "        return self\n",
    "    def __next__(self):\n",
    "        if len(self.data) == 0 or self.index >= len(self.data):\n",
    "            raise StopIteration\n",
    "            \n",
    "        for i in range(self.index, len(self.data)):\n",
    "            if self.data[i] % 2 != 0: \n",
    "                self.index = i + 1\n",
    "                return self.data[i]"
   ]
  },
  {
   "cell_type": "markdown",
   "metadata": {},
   "source": [
    "Примените полученный класс к списку целых чисел от 0 до 9"
   ]
  },
  {
   "cell_type": "code",
   "execution_count": 107,
   "metadata": {},
   "outputs": [
    {
     "name": "stdout",
     "output_type": "stream",
     "text": [
      "1\n",
      "3\n",
      "5\n"
     ]
    }
   ],
   "source": [
    "iter = OddIterator(range(10))\n",
    "print(next(iter))\n",
    "print(next(iter))\n",
    "print(next(iter))"
   ]
  },
  {
   "cell_type": "markdown",
   "metadata": {},
   "source": [
    "Создайте функцию-генератор `fibb()`, возвращающую числа Фиббоначи, меньшие указанного в параметре `n`."
   ]
  },
  {
   "cell_type": "code",
   "execution_count": 110,
   "metadata": {},
   "outputs": [],
   "source": [
    "def fibb(n):\n",
    "    a, b = 0, 1\n",
    "    for _ in range(n):\n",
    "        yield a\n",
    "        a, b = b, a + b\n"
   ]
  },
  {
   "cell_type": "markdown",
   "metadata": {},
   "source": [
    "Напечатайте первые десять чисел Фиббоначи, используя созданную функцию."
   ]
  },
  {
   "cell_type": "code",
   "execution_count": 112,
   "metadata": {},
   "outputs": [
    {
     "name": "stdout",
     "output_type": "stream",
     "text": [
      "[0, 1, 1, 2, 3, 5, 8, 13, 21, 34]\n"
     ]
    }
   ],
   "source": [
    "print(list(fibb(10)))"
   ]
  },
  {
   "cell_type": "code",
   "execution_count": null,
   "metadata": {},
   "outputs": [],
   "source": []
  }
 ],
 "metadata": {
  "kernelspec": {
   "display_name": "Python 3",
   "language": "python",
   "name": "python3"
  },
  "language_info": {
   "codemirror_mode": {
    "name": "ipython",
    "version": 3
   },
   "file_extension": ".py",
   "mimetype": "text/x-python",
   "name": "python",
   "nbconvert_exporter": "python",
   "pygments_lexer": "ipython3",
   "version": "3.5.5"
  },
  "widgets": {
   "state": {},
   "version": "1.1.2"
  }
 },
 "nbformat": 4,
 "nbformat_minor": 2
}
