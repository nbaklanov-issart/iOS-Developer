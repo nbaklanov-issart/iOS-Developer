{
 "cells": [
  {
   "cell_type": "markdown",
   "metadata": {},
   "source": [
    "# Задачи по OpenCV"
   ]
  },
  {
   "cell_type": "markdown",
   "metadata": {},
   "source": [
    "Ниже даны задачи на применение нескольких функций OpenCV. Может также потребоваться реализовать какой-либо алгоритм, не относящийся напрямую к обработке изображений. Предложенный ход решения дан для примера и не является обязательным или единственным."
   ]
  },
  {
   "cell_type": "markdown",
   "metadata": {},
   "source": [
    "## Раскраска"
   ]
  },
  {
   "cell_type": "markdown",
   "metadata": {},
   "source": [
    "<img style=\"float: right;\" src=\"thumbnails/color_page_01.jpg\">\n",
    "Раскрасьте изображение из файла `images/color_page_01.jpg`. Для распознавания цифр используйте программу [Tesseract](https://github.com/tesseract-ocr/tesseract/wiki) и библиотеку [pytesseract](https://anaconda.org/jim-hart/pytesseract)\n",
    "\n",
    "Распознавать текст внизу не нужно - зафиксируйте соответствие цифр и цветов в коде. Отделить текст от контуров можно с помощью анализа связных компонент - [connectedComponentsWithStats](https://docs.opencv.org/3.4.1/d3/dc0/group__imgproc__shape.html#ga107a78bf7cd25dec05fb4dfc5c9e765f) . Для заливки используйте функцию `cv.floodFill()`\n",
    "\n",
    "Проверьте решение на файле `images/color_page_03.jpg`. Распознал ли Tesseract цифры? Если нет, попробуйте [template matching](https://docs.opencv.org/3.4.1/d4/dc6/tutorial_py_template_matching.html)"
   ]
  },
  {
   "cell_type": "markdown",
   "metadata": {},
   "source": [
    "## Раскраска - 2: проблема четырёх красок"
   ]
  },
  {
   "cell_type": "markdown",
   "metadata": {},
   "source": [
    "<img style=\"float: right;\" src=\"thumbnails/color_page_02.jpg\">\n",
    "Раскрасьте изображение из файла `images/color_page_02.jpg` таким образом, чтобы любые две области с общей границей были разного цвета. [Теория](https://en.wikipedia.org/wiki/Four_color_theorem) утверждает, что достаточно четырёх цветов.\n",
    "\n",
    "Сами области удобно искать через связные компоненты. Чтобы узнать, какая с какой граничит, можно сдвинуть изображение на 1.5-2 ширины линии и посмостреть, какая область на какую наложилась.\n",
    "\n",
    "Исходная картинка симметрична. Подумайте, как можно сделать симметричной раскраску."
   ]
  },
  {
   "cell_type": "markdown",
   "metadata": {},
   "source": [
    "## Сборочный чертёж"
   ]
  },
  {
   "cell_type": "markdown",
   "metadata": {},
   "source": [
    "<img style=\"float: right;\" src=\"thumbnails/expl_dr_02.jpg\">\n",
    "Разделите детали на сборочном чертеже `images/expl_dr_02.jpg`. Выделите каждую цветом.\n",
    "\n",
    "В основе - связные компоненты. Цифры можно отделить как компоненты маленького размера. Стрелки отделяются преобразованием Хаффа.\n",
    "\n",
    "Проверьте решение на файлах `images/expl_dr_01.jpg` и `images/expl_dr_03.jpg`"
   ]
  },
  {
   "cell_type": "markdown",
   "metadata": {},
   "source": [
    "## Точки схода"
   ]
  },
  {
   "cell_type": "markdown",
   "metadata": {},
   "source": [
    "<img style=\"float: right;\" src=\"thumbnails/building_01.jpg\">\n",
    "Выделите на фото здания `images/building_01.jpg` линии, соответствующие осям координат здания. Должно получиться нечто вроде изображённого вот [тут](https://ai2-s2-public.s3.amazonaws.com/figures/2017-08-08/5e1a196f64efd1048a7e3e8e8c82810a8f6c3b83/1-Figure1-1.png).\n",
    "\n",
    "Здесь подойдут детектор рёбер Кэнни и преобразование Хаффа. Обратите внимание, что преобразование Хаффа выдаёт прямые, проходящие сквозь весь чертёж. Найдите способ выделить отрезки на каждой прямой.\n",
    "\n",
    "Проверьте решение на файле `images/building_02.jpg`"
   ]
  },
  {
   "cell_type": "markdown",
   "metadata": {},
   "source": [
    "## Штрих-код"
   ]
  },
  {
   "cell_type": "markdown",
   "metadata": {},
   "source": [
    "<img style=\"float: right;\" src=\"thumbnails/barcode_01.png\">\n",
    "Выделите на фото `images/barcode_01.jpg` область со штрих-кодом. Используйте градиенты Собеля. \n",
    "\n",
    "Вообще, есть много способов найти штрих-код. Здесь предлагается искать область с большими значениями градиента. Сами эти значения будут сосредоточены на границе белого и чёрного. Найдите способ \"размазать\" их, чтобы выделить область целиком.\n",
    "\n",
    "Проверьте решение на файлах `images/barcode_02.jpg` и `images/barcode_03.jpg`"
   ]
  }
 ],
 "metadata": {
  "kernelspec": {
   "display_name": "Python 3",
   "language": "python",
   "name": "python3"
  },
  "language_info": {
   "codemirror_mode": {
    "name": "ipython",
    "version": 3
   },
   "file_extension": ".py",
   "mimetype": "text/x-python",
   "name": "python",
   "nbconvert_exporter": "python",
   "pygments_lexer": "ipython3",
   "version": "3.5.5"
  },
  "widgets": {
   "state": {},
   "version": "1.1.2"
  }
 },
 "nbformat": 4,
 "nbformat_minor": 2
}
